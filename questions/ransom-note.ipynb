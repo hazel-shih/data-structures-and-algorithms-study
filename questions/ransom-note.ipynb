{
 "cells": [
  {
   "cell_type": "code",
   "execution_count": null,
   "metadata": {},
   "outputs": [],
   "source": [
    "# 📕 INFO\n",
    "\"\"\"\n",
    "Date: 2024/12/17\n",
    "Question Name: Ransom Note\n",
    "Question Link: https://leetcode.com/problems/ransom-note/description/\n",
    "Question Level: Easy\n",
    "\"\"\"\n",
    "\n",
    "# ❓ QUESTION\n",
    "\"\"\"\n",
    "Given two strings ransomNote and magazine, return true if ransomNote can be constructed by using the letters from magazine and false otherwise.\n",
    "\n",
    "Each letter in magazine can only be used once in ransomNote.\n",
    "\n",
    " \n",
    "\n",
    "Example 1:\n",
    "\n",
    "Input: ransomNote = \"a\", magazine = \"b\"\n",
    "Output: false\n",
    "Example 2:\n",
    "\n",
    "Input: ransomNote = \"aa\", magazine = \"ab\"\n",
    "Output: false\n",
    "Example 3:\n",
    "\n",
    "Input: ransomNote = \"aa\", magazine = \"aab\"\n",
    "Output: true\n",
    " \n",
    "\n",
    "Constraints:\n",
    "\n",
    "1 <= ransomNote.length, magazine.length <= 105\n",
    "ransomNote and magazine consist of lowercase English letters.\n",
    "\"\"\""
   ]
  },
  {
   "cell_type": "code",
   "execution_count": null,
   "metadata": {},
   "outputs": [],
   "source": [
    "# 👀 Thoughts\n",
    "\"\"\"\n",
    "此題要看的是 ransomNote 的字母組成是否為 magazine 字母組成的子集合，每個字母只能被使用一次。因此必須建立字母計數，想法是遍歷一次 magazine 計算一下字母庫，再遍歷一次 ransomNote 去使用字母庫來看夠不夠用：）\n",
    "\"\"\""
   ]
  },
  {
   "cell_type": "code",
   "execution_count": null,
   "metadata": {},
   "outputs": [],
   "source": [
    "class Solution(object):\n",
    "    def canConstruct(self, ransomNote, magazine):\n",
    "        \"\"\"\n",
    "        :type ransomNote: str\n",
    "        :type magazine: str\n",
    "        :rtype: bool\n",
    "        \"\"\"\n",
    "        hashmap = {}\n",
    "        for alphabet in magazine:\n",
    "            hashmap[alphabet] = hashmap.get(alphabet, 0) + 1\n",
    "\n",
    "        for alphabet in ransomNote:\n",
    "            if hashmap.get(alphabet, 0) == 0:\n",
    "                return False\n",
    "            hashmap[alphabet] -= 1\n",
    "\n",
    "        return True"
   ]
  },
  {
   "cell_type": "code",
   "execution_count": null,
   "metadata": {},
   "outputs": [],
   "source": [
    "# 🥇 Other Good Answers\n",
    "# Time:  O(n)\n",
    "# Space: O(1)\n",
    "\n",
    "import collections\n",
    "\n",
    "\n",
    "class Solution(object):\n",
    "    def canConstruct(self, ransomNote, magazine):\n",
    "        \"\"\"\n",
    "        :type ransomNote: str\n",
    "        :type magazine: str\n",
    "        :rtype: bool\n",
    "        \"\"\"\n",
    "        counts = [0] * 26\n",
    "        letters = 0\n",
    "\n",
    "        for c in ransomNote:\n",
    "            if counts[ord(c) - ord('a')] == 0:\n",
    "                letters += 1\n",
    "            counts[ord(c) - ord('a')] += 1\n",
    "\n",
    "        for c in magazine:\n",
    "            counts[ord(c) - ord('a')] -= 1\n",
    "            if counts[ord(c) - ord('a')] == 0:\n",
    "                letters -= 1\n",
    "                if letters == 0:\n",
    "                    break\n",
    "\n",
    "        return letters == 0\n",
    "\n",
    "\n",
    "# Time:  O(n)\n",
    "# Space: O(1)\n",
    "\n",
    "\n",
    "class Solution2(object):\n",
    "    def canConstruct(self, ransomNote, magazine):\n",
    "        \"\"\"\n",
    "        :type ransomNote: str\n",
    "        :type magazine: str\n",
    "        :rtype: bool\n",
    "        \"\"\"\n",
    "        return not collections.Counter(ransomNote) - collections.Counter(magazine)"
   ]
  },
  {
   "cell_type": "code",
   "execution_count": null,
   "metadata": {},
   "outputs": [
    {
     "data": {
      "text/plain": [
       "97"
      ]
     },
     "execution_count": 45,
     "metadata": {},
     "output_type": "execute_result"
    }
   ],
   "source": [
    "# 📝 Notes\n",
    "\"\"\"\n",
    "- 這題可以說很簡單，但我卻前後嘗試 submit 並且修正了好幾次，以下為原因：\n",
    "  1. 題目沒有看清楚，我一開始看成只能為 magazine 中有序的子集合，但題目要的是無序的字母組合並只能使用一次（要求更加寬鬆）\n",
    "  2. 以 JS 腦去寫 python：\n",
    "    在 JS 中若 hashmap 沒有某個 key，hashmap[key] 並不會報錯而是返回 undefined，而 python 會報 KeyError 錯\n",
    "- 理解在 leetcode 裏放錯誤處理很荒謬 XD 但我要自己記住錯誤處理其實是相對效能昂貴的處理\n",
    "- 對於不確定 key 是否存在於 dict 中，使用 dict.get(key, 'default') 是 pythonic 的做法\n",
    "\n",
    "對於 Other Good Answers 的兩個做法，發現 collections 這個 library 根本為此題而生 XD 而法一這個方式即為字母計數器的實作，先前並沒有使用過 ord（但有用過 JS 的 charCodeAt），因此十分陌生，但感覺在有關文字索引與計數的處理上十分好用。同時也提醒自己不要潛移默化地背答案（不要看到題目就馬上去想 hashmap，這樣可能失去其他方向的思考）\n",
    "\"\"\""
   ]
  }
 ],
 "metadata": {
  "kernelspec": {
   "display_name": "base",
   "language": "python",
   "name": "python3"
  },
  "language_info": {
   "codemirror_mode": {
    "name": "ipython",
    "version": 3
   },
   "file_extension": ".py",
   "mimetype": "text/x-python",
   "name": "python",
   "nbconvert_exporter": "python",
   "pygments_lexer": "ipython3",
   "version": "3.12.4"
  }
 },
 "nbformat": 4,
 "nbformat_minor": 2
}
