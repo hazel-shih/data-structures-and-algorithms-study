{
 "cells": [
  {
   "cell_type": "code",
   "execution_count": 7,
   "metadata": {},
   "outputs": [
    {
     "data": {
      "text/plain": [
       "'\\nGiven an array of integers nums and an integer target, return indices of the two numbers such that they add up to target.\\n\\nYou may assume that each input would have exactly one solution, and you may not use the same element twice.\\n\\nYou can return the answer in any order.\\n\\n \\n\\nExample 1:\\n\\nInput: nums = [2,7,11,15], target = 9\\nOutput: [0,1]\\nExplanation: Because nums[0] + nums[1] == 9, we return [0, 1].\\nExample 2:\\n\\nInput: nums = [3,2,4], target = 6\\nOutput: [1,2]\\nExample 3:\\n\\nInput: nums = [3,3], target = 6\\nOutput: [0,1]\\n \\n\\nConstraints:\\n\\n2 <= nums.length <= 104\\n-109 <= nums[i] <= 109\\n-109 <= target <= 109\\nOnly one valid answer exists.\\n \\n\\nFollow-up: Can you come up with an algorithm that is less than O(n2) time complexity?\\n'"
      ]
     },
     "execution_count": 7,
     "metadata": {},
     "output_type": "execute_result"
    }
   ],
   "source": [
    "# 📕 INFO\n",
    "\"\"\"\n",
    "Date: 2024/12/17\n",
    "Question Name: Two Sum\n",
    "Question Link: https://leetcode.com/problems/two-sum/description/\n",
    "Question Level: Easy\n",
    "\"\"\"\n",
    "\n",
    "# ❓ QUESTION\n",
    "\"\"\"\n",
    "Given an array of integers nums and an integer target, return indices of the two numbers such that they add up to target.\n",
    "\n",
    "You may assume that each input would have exactly one solution, and you may not use the same element twice.\n",
    "\n",
    "You can return the answer in any order.\n",
    "\n",
    " \n",
    "\n",
    "Example 1:\n",
    "\n",
    "Input: nums = [2,7,11,15], target = 9\n",
    "Output: [0,1]\n",
    "Explanation: Because nums[0] + nums[1] == 9, we return [0, 1].\n",
    "Example 2:\n",
    "\n",
    "Input: nums = [3,2,4], target = 6\n",
    "Output: [1,2]\n",
    "Example 3:\n",
    "\n",
    "Input: nums = [3,3], target = 6\n",
    "Output: [0,1]\n",
    " \n",
    "\n",
    "Constraints:\n",
    "\n",
    "2 <= nums.length <= 104\n",
    "-109 <= nums[i] <= 109\n",
    "-109 <= target <= 109\n",
    "Only one valid answer exists.\n",
    " \n",
    "\n",
    "Follow-up: Can you come up with an algorithm that is less than O(n2) time complexity?\n",
    "\"\"\""
   ]
  },
  {
   "cell_type": "code",
   "execution_count": null,
   "metadata": {},
   "outputs": [],
   "source": [
    "# 👀 Thoughts\n",
    "\"\"\"\n",
    "看起來好像在找靈魂伴侶（Ｘ，每一個數字的靈魂伴侶是 target - num（暫稱靈魂伴侶數），陣列看起來長度不長因此可以針對每一個數字，再次遍歷這個陣列去找出此數字索引以後的數字是否為靈魂伴侶數，若找到就 early return。\n",
    "\n",
    "但這樣的時間複雜度是 O(n2)，但我認為此題可允許這樣的做法因為陣列長度不長。\n",
    "\n",
    "關於「找」、「看過的要記錄」這些想法會讓我想到使用 hashmap，利用 hashmap 可以快速查找 key 的特性，可以遍歷一次陣列，將遍歷過的存於 map 中，key 為 num value 為 index（會這樣設計是 num  為已知因此放在 key），若符合靈魂伴侶數存在在 map 中，就代表找到 the one，輸出其 value 也就是 index 即可。此方法時間複雜度為 O(n) => 遍歷陣列一次\n",
    "\"\"\""
   ]
  },
  {
   "cell_type": "code",
   "execution_count": 48,
   "metadata": {},
   "outputs": [
    {
     "data": {
      "text/plain": [
       "[2, 1]"
      ]
     },
     "execution_count": 48,
     "metadata": {},
     "output_type": "execute_result"
    }
   ],
   "source": [
    "# class Solution(object):\n",
    "#     def twoSum(self, nums, target):\n",
    "#         \"\"\"\n",
    "#         :type nums: List[int]\n",
    "#         :type target: int\n",
    "#         :rtype: List[int]\n",
    "#         \"\"\"\n",
    "#         for i in range(len(nums)):\n",
    "#             for j in range(i+1, len(nums)):\n",
    "#                 if nums[i] + nums[j] == target:\n",
    "#                     return [i, j]\n",
    "\n",
    "class Solution(object):\n",
    "    def twoSum(self, nums, target):\n",
    "        \"\"\"\n",
    "        :type nums: List[int]\n",
    "        :type target: int\n",
    "        :rtype: List[int]\n",
    "        \"\"\"\n",
    "        hashmap = {}\n",
    "        for index, num in enumerate(nums):\n",
    "            another_num = target - num\n",
    "            if (another_num in hashmap):\n",
    "                return [index, hashmap[another_num]]\n",
    "            hashmap[num] = index\n",
    "\n",
    "\n",
    "Solution().twoSum([3, 2, 4], 6)"
   ]
  },
  {
   "cell_type": "code",
   "execution_count": 9,
   "metadata": {},
   "outputs": [],
   "source": [
    "# 🥇 Other Good Answers"
   ]
  },
  {
   "cell_type": "code",
   "execution_count": null,
   "metadata": {},
   "outputs": [],
   "source": [
    "# 📝 Notes\n",
    "\"\"\"\n",
    "1. 對於 dictionary 可以直接查找 key 已存在於字典中這個概念不是太熟\n",
    "2. 必須搞清楚我們要存什麼、找什麼，在對於 dict 的 key value pair 要存誰卡了一下\n",
    "\n",
    "according to 1 from chatGPT:\n",
    "\n",
    "Hash Table 如何做到快速查找？\n",
    "- 哈希函數（Hash Function）：\n",
    "每個鍵（key）透過一個哈希函數轉換成數字，這個數字是鍵在記憶體中的位置。\n",
    "- 直接存取：\n",
    "一旦鍵的哈希值被計算出來，Python 可以直接跳到對應的位置檢查鍵是否存在，這是 O(1) 的操作。\n",
    "- 避免衝突：\n",
    "如果兩個鍵產生相同的哈希值，Python 會利用一些方法（例如鏈結法）來處理衝突，但一般情況下這種情況很少發生。\n",
    "\"\"\""
   ]
  }
 ],
 "metadata": {
  "kernelspec": {
   "display_name": "base",
   "language": "python",
   "name": "python3"
  },
  "language_info": {
   "codemirror_mode": {
    "name": "ipython",
    "version": 3
   },
   "file_extension": ".py",
   "mimetype": "text/x-python",
   "name": "python",
   "nbconvert_exporter": "python",
   "pygments_lexer": "ipython3",
   "version": "3.12.4"
  }
 },
 "nbformat": 4,
 "nbformat_minor": 2
}
