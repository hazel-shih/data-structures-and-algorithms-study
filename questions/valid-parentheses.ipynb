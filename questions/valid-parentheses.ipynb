{
 "cells": [
  {
   "cell_type": "code",
   "execution_count": null,
   "metadata": {},
   "outputs": [],
   "source": [
    "# 📕 INFO\n",
    "\"\"\"\n",
    "Date: 2024/12/18\n",
    "Question Name: Valid Parentheses\n",
    "Question Link: https://leetcode.com/problems/valid-parentheses/description/\n",
    "Question Level: Easy\n",
    "\"\"\"\n",
    "\n",
    "# ❓ QUESTION\n",
    "\"\"\"\n",
    "Given a string s containing just the characters '(', ')', '{', '}', '[' and ']', determine if the input string is valid.\n",
    "\n",
    "An input string is valid if:\n",
    "\n",
    "Open brackets must be closed by the same type of brackets.\n",
    "Open brackets must be closed in the correct order.\n",
    "Every close bracket has a corresponding open bracket of the same type.\n",
    " \n",
    "\n",
    "Example 1:\n",
    "\n",
    "Input: s = \"()\"\n",
    "\n",
    "Output: true\n",
    "\n",
    "Example 2:\n",
    "\n",
    "Input: s = \"()[]{}\"\n",
    "\n",
    "Output: true\n",
    "\n",
    "Example 3:\n",
    "\n",
    "Input: s = \"(]\"\n",
    "\n",
    "Output: false\n",
    "\n",
    "Example 4:\n",
    "\n",
    "Input: s = \"([])\"\n",
    "\n",
    "Output: true\n",
    "\n",
    " \n",
    "\n",
    "Constraints:\n",
    "\n",
    "1 <= s.length <= 104\n",
    "s consists of parentheses only '()[]{}'.\n",
    "\"\"\""
   ]
  },
  {
   "cell_type": "code",
   "execution_count": null,
   "metadata": {},
   "outputs": [],
   "source": [
    "# 👀 Thoughts\n",
    "\"\"\"\n",
    "括弧必須成對並且需要「有序的配對」。遍歷字串時遇到左括弧必須等待與之搭配的右括弧出現（所以也需要一個搭配表，預計以 hashmap 實作），先出現的左括弧必須等待到最後，因為充當了數學邏輯中大括號的角色，把所有東西包起來，它的右括弧在超後面，反之最晚出現的左括弧一定會先碰到它的右括弧（根據這個 last in first out 的特性聽起來就很 stack），遇到左括弧把它塞到 stack 等待，遇到右括弧就去看 stack 最上層是否為與之搭配的左括弧，若否就 return False，最後必須要是 stack 為空的情況。\n",
    "\"\"\""
   ]
  },
  {
   "cell_type": "code",
   "execution_count": null,
   "metadata": {},
   "outputs": [],
   "source": [
    "class Solution(object):\n",
    "    def isValid(self, s):\n",
    "        \"\"\"\n",
    "        :type s: str\n",
    "        :rtype: bool\n",
    "        \"\"\"\n",
    "        if len(s) % 2 != 0:\n",
    "            return False\n",
    "        pair_map = {\n",
    "            ')': '(',\n",
    "            '}': '{',\n",
    "            ']': '['\n",
    "        }\n",
    "        stack = []\n",
    "        for p in s:\n",
    "            if p not in pair_map:\n",
    "                stack.append(p)\n",
    "            else:\n",
    "                if (not stack or stack.pop() != pair_map[p]):\n",
    "                    return False\n",
    "\n",
    "        return len(stack) == 0"
   ]
  },
  {
   "cell_type": "code",
   "execution_count": null,
   "metadata": {},
   "outputs": [
    {
     "name": "stdout",
     "output_type": "stream",
     "text": [
      "True\n"
     ]
    }
   ],
   "source": [
    "# 🥇 Other Good Answers\n",
    "def isValid(self, s):\n",
    "    while '()' in s or '[]' in s or '{}' in s:\n",
    "        s = s.replace('()', '').replace('[]', '').replace('{}', '')\n",
    "    return s == ''"
   ]
  },
  {
   "cell_type": "code",
   "execution_count": null,
   "metadata": {},
   "outputs": [],
   "source": [
    "# 📝 Notes\n",
    "\"\"\"\n",
    "1. 這題最難的就是「想清楚規則與限制」，不管如何先遇到的右括弧絕對必須和最後遇到的左括弧配對，想清楚這件事後自然會想到 stack。\n",
    "2. other good answer 超酷！感覺傾向圖像思考的人會想到這樣的解法。\n",
    "\"\"\""
   ]
  }
 ],
 "metadata": {
  "kernelspec": {
   "display_name": "base",
   "language": "python",
   "name": "python3"
  },
  "language_info": {
   "codemirror_mode": {
    "name": "ipython",
    "version": 3
   },
   "file_extension": ".py",
   "mimetype": "text/x-python",
   "name": "python",
   "nbconvert_exporter": "python",
   "pygments_lexer": "ipython3",
   "version": "3.12.4"
  }
 },
 "nbformat": 4,
 "nbformat_minor": 2
}
