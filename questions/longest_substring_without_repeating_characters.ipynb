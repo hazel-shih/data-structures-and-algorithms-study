{
 "cells": [
  {
   "cell_type": "code",
   "execution_count": null,
   "metadata": {},
   "outputs": [],
   "source": [
    "# 📕 INFO\n",
    "\"\"\"\n",
    "Date: 2024/12/19\n",
    "Question Name: Longest Substring Without Repeating Characters\n",
    "Question Link: https://leetcode.com/problems/longest-substring-without-repeating-characters/description/\n",
    "Question Level: Medium\n",
    "\"\"\"\n",
    "\n",
    "# ❓ QUESTION\n",
    "\"\"\"\n",
    "Given a string s, find the length of the longest \n",
    "substring\n",
    " without repeating characters.\n",
    "\n",
    " \n",
    "\n",
    "Example 1:\n",
    "\n",
    "Input: s = \"abcabcbb\"\n",
    "Output: 3\n",
    "Explanation: The answer is \"abc\", with the length of 3.\n",
    "Example 2:\n",
    "\n",
    "Input: s = \"bbbbb\"\n",
    "Output: 1\n",
    "Explanation: The answer is \"b\", with the length of 1.\n",
    "Example 3:\n",
    "\n",
    "Input: s = \"pwwkew\"\n",
    "Output: 3\n",
    "Explanation: The answer is \"wke\", with the length of 3.\n",
    "Notice that the answer must be a substring, \"pwke\" is a subsequence and not a substring.\n",
    " \n",
    "\n",
    "Constraints:\n",
    "\n",
    "0 <= s.length <= 5 * 104\n",
    "s consists of English letters, digits, symbols and spaces.\n",
    "\"\"\""
   ]
  },
  {
   "cell_type": "code",
   "execution_count": null,
   "metadata": {},
   "outputs": [],
   "source": [
    "# 👀 Thoughts\n",
    "\"\"\"\n",
    "感覺就會用到雙層迴圈 QQ 第一層遍歷原始字串，為 substring 的第一個字元(index n)，第二層遍歷以 index n+1 為首的子字串，將第二層字元和第一層組成 substring，同時會有一個記錄所有字元的 hashmap 以供查看是否字元重複，因此遍歷第二層組成 substring 之前要查表，若字元重複就跳出，若沒重複則持續組成 substring，並同時檢查當前長度是否已經是目前最長（因此也要有個字串紀錄當前最長 substring)，若當前組成的 substring 長度 > max string，則替換掉 max string 的值，重複此過程直到第一圈遍歷結束。\n",
    "\n",
    "（發現自己寫得很亂，請 chatGPT 幫我統整後如下，我自己也該學學這樣有條理的方式）：\n",
    "\n",
    "# 問題分析\n",
    "目標是找到「無重複字元的最長子字串」，並返回其長度。\n",
    "必須檢查字串的每一個子字串，確保其中字元不重複。\n",
    "# 解法描述\n",
    "使用雙層迴圈：\n",
    "第一層迴圈選擇子字串的起始字元。\n",
    "第二層迴圈從該起始點向後檢查，直到遇到重複字元。\n",
    "使用 hashmap 記錄當前子字串中出現的字元。\n",
    "當找到無重複的子字串時，檢查其長度是否比目前的最大值更長，若是則更新最大值。\n",
    "\"\"\""
   ]
  },
  {
   "cell_type": "code",
   "execution_count": 16,
   "metadata": {},
   "outputs": [],
   "source": [
    "class Solution(object):\n",
    "    def lengthOfLongestSubstring(self, s):\n",
    "        \"\"\"\n",
    "        :type s: str\n",
    "        :rtype: int\n",
    "        \"\"\"\n",
    "        if not s:\n",
    "            return 0\n",
    "        max_substring = s[0]\n",
    "        for index, first_cha in enumerate(s):\n",
    "            cha_hashmap = {}\n",
    "            substring = first_cha\n",
    "            cha_hashmap[first_cha] = 1\n",
    "            for last_cha in s[index+1:]:\n",
    "                if (last_cha not in cha_hashmap):\n",
    "                    cha_hashmap[last_cha] = 1\n",
    "                    substring += last_cha\n",
    "                    if (len(substring) > len(max_substring)):\n",
    "                        max_substring = substring\n",
    "                else:\n",
    "                    break\n",
    "        return len(max_substring)"
   ]
  },
  {
   "cell_type": "code",
   "execution_count": null,
   "metadata": {},
   "outputs": [
    {
     "data": {
      "text/plain": [
       "set"
      ]
     },
     "execution_count": 5,
     "metadata": {},
     "output_type": "execute_result"
    }
   ],
   "source": [
    "# 🥇 Other Good Answers\n",
    "class Solution:\n",
    "    def lengthOfLongestSubstring(self, s):\n",
    "        char_set = set()\n",
    "        start = 0\n",
    "        max_length = 0\n",
    "\n",
    "        for end in range(len(s)):\n",
    "            while s[end] in char_set:\n",
    "                char_set.remove(s[start])\n",
    "                start += 1\n",
    "            char_set.add(s[end])\n",
    "            max_length = max(max_length, end - start + 1)\n",
    "\n",
    "        return max_length"
   ]
  },
  {
   "cell_type": "code",
   "execution_count": null,
   "metadata": {},
   "outputs": [],
   "source": [
    "# 📝 Notes\n",
    "\"\"\"\n",
    "這篇講解 sliding window 很清楚：\n",
    "https://builtin.com/data-science/sliding-window-algorithm\n",
    "Some takeaways:\n",
    "1. designed to transform two nested loops into a single loop\n",
    "2. applies to arrays, lists or strings (sequences)\n",
    "3. It will ask to find sub ranges in that array to give the longest, shortest or target values of a string.(就像這題)\n",
    "\n",
    "若看見類似要找出 subsequence 的要求，代表要「一次多個」、「有序」，可以試試看 sliding window\n",
    "\"\"\""
   ]
  }
 ],
 "metadata": {
  "kernelspec": {
   "display_name": "base",
   "language": "python",
   "name": "python3"
  },
  "language_info": {
   "codemirror_mode": {
    "name": "ipython",
    "version": 3
   },
   "file_extension": ".py",
   "mimetype": "text/x-python",
   "name": "python",
   "nbconvert_exporter": "python",
   "pygments_lexer": "ipython3",
   "version": "3.12.4"
  }
 },
 "nbformat": 4,
 "nbformat_minor": 2
}
